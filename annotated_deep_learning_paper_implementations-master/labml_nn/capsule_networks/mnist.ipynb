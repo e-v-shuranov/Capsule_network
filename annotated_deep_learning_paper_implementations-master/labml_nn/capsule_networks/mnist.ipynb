{
 "cells": [
  {
   "cell_type": "markdown",
   "metadata": {
    "id": "AYV_dMVDxyc2"
   },
   "source": [
    "[![Github](https://img.shields.io/github/stars/labmlai/annotated_deep_learning_paper_implementations?style=social)](https://github.com/labmlai/annotated_deep_learning_paper_implementations)\n",
    "[![Open In Colab](https://colab.research.google.com/assets/colab-badge.svg)](https://colab.research.google.com/github/labmlai/annotated_deep_learning_paper_implementations/blob/master/labml_nn/capsule_networks/mnist.ipynb)                    \n",
    "\n",
    "## Training a Capsule Network to classify MNIST digits\n",
    "\n",
    "This is an experiment to train a Capsule Network to classify MNIST digits using PyTorch."
   ]
  },
  {
   "cell_type": "markdown",
   "metadata": {
    "id": "AahG_i2y5tY9"
   },
   "source": [
    "Install the `labml-nn` package"
   ]
  },
  {
   "cell_type": "code",
   "execution_count": 1,
   "metadata": {
    "colab": {
     "base_uri": "https://localhost:8080/"
    },
    "id": "ZCzmCrAIVg0L",
    "outputId": "7ab15f72-c99f-4097-ecd2-5740ee9ed61c",
    "ExecuteTime": {
     "end_time": "2024-03-23T10:22:15.996974900Z",
     "start_time": "2024-03-23T10:22:15.741985500Z"
    }
   },
   "outputs": [
    {
     "name": "stdout",
     "output_type": "stream",
     "text": [
      "3.8.10 (default, Nov 22 2023, 10:22:35) \n",
      "[GCC 9.4.0]\n",
      "/usr/bin/python3\n",
      "3.8.10\n",
      "env:  None\n",
      "[0 1 2 3 4 5]\n"
     ]
    },
    {
     "ename": "ModuleNotFoundError",
     "evalue": "No module named 'sklearn'",
     "output_type": "error",
     "traceback": [
      "\u001B[0;31m---------------------------------------------------------------------------\u001B[0m",
      "\u001B[0;31mModuleNotFoundError\u001B[0m                       Traceback (most recent call last)",
      "Cell \u001B[0;32mIn[1], line 14\u001B[0m\n\u001B[1;32m     11\u001B[0m a \u001B[38;5;241m=\u001B[39m np\u001B[38;5;241m.\u001B[39marange(\u001B[38;5;241m6\u001B[39m)\n\u001B[1;32m     12\u001B[0m \u001B[38;5;28mprint\u001B[39m(a)\n\u001B[0;32m---> 14\u001B[0m \u001B[38;5;28;01mfrom\u001B[39;00m \u001B[38;5;21;01msklearn\u001B[39;00m\u001B[38;5;21;01m.\u001B[39;00m\u001B[38;5;21;01mensemble\u001B[39;00m \u001B[38;5;28;01mimport\u001B[39;00m RandomForestClassifier\n\u001B[1;32m     15\u001B[0m clf \u001B[38;5;241m=\u001B[39m RandomForestClassifier(random_state\u001B[38;5;241m=\u001B[39m\u001B[38;5;241m0\u001B[39m)\n\u001B[1;32m     16\u001B[0m X \u001B[38;5;241m=\u001B[39m [[ \u001B[38;5;241m1\u001B[39m,  \u001B[38;5;241m2\u001B[39m,  \u001B[38;5;241m3\u001B[39m], [\u001B[38;5;241m11\u001B[39m, \u001B[38;5;241m12\u001B[39m, \u001B[38;5;241m13\u001B[39m]]\n",
      "\u001B[0;31mModuleNotFoundError\u001B[0m: No module named 'sklearn'"
     ]
    }
   ],
   "source": [
    "import sys\n",
    "print(sys. version)\n",
    "import sys\n",
    "print(sys. executable)\n",
    "import platform\n",
    "print(platform. python_version())\n",
    "import os\n",
    "print(\"env: \", os.getenv('p38'))\n",
    "\n",
    "import numpy as np\n",
    "a = np.arange(6)\n",
    "print(a)\n",
    "\n",
    "from sklearn.ensemble import RandomForestClassifier\n",
    "clf = RandomForestClassifier(random_state=0)\n",
    "X = [[ 1,  2,  3], [11, 12, 13]]\n",
    "y = [0, 1]  # classes of each sample\n",
    "clf.fit(X, y)"
   ]
  },
  {
   "cell_type": "code",
   "execution_count": 1,
   "metadata": {
    "ExecuteTime": {
     "end_time": "2024-03-23T09:18:04.422690500Z",
     "start_time": "2024-03-23T09:17:40.332751200Z"
    },
    "collapsed": false
   },
   "outputs": [
    {
     "name": "stdout",
     "output_type": "stream",
     "text": [
      "Collecting labml-nn\r\n",
      "  Downloading labml_nn-0.4.136-py3-none-any.whl (434 kB)\r\n",
      "\u001B[K     |████████████████████████████████| 434 kB 536 kB/s eta 0:00:01\r\n",
      "\u001B[?25hCollecting labml-helpers==0.4.89\r\n",
      "  Downloading labml_helpers-0.4.89-py3-none-any.whl (24 kB)\r\n",
      "Collecting numpy\r\n",
      "  Downloading numpy-1.24.4-cp38-cp38-manylinux_2_17_x86_64.manylinux2014_x86_64.whl (17.3 MB)\r\n",
      "\u001B[K     |████████████████████████████████| 17.3 MB 564 kB/s eta 0:00:011\r\n",
      "\u001B[?25hRequirement already satisfied: torch in /home/evgeniy/.local/lib/python3.8/site-packages (from labml-nn) (2.0.1)\r\n",
      "Requirement already satisfied: torchvision in /home/evgeniy/.local/lib/python3.8/site-packages (from labml-nn) (0.15.2)\r\n",
      "Collecting torchtext\r\n",
      "  Downloading torchtext-0.17.1-cp38-cp38-manylinux1_x86_64.whl (2.0 MB)\r\n",
      "\u001B[K     |████████████████████████████████| 2.0 MB 363 kB/s eta 0:00:011\r\n",
      "\u001B[?25hCollecting labml==0.4.168\r\n",
      "  Downloading labml-0.4.168-py3-none-any.whl (130 kB)\r\n",
      "\u001B[K     |████████████████████████████████| 130 kB 2.3 MB/s eta 0:00:01\r\n",
      "\u001B[?25hProcessing /home/evgeniy/.cache/pip/wheels/b8/02/9b/dc7d4ff5145afdd28f456dae6605a46619af0370eca30d8d7e/fairscale-0.4.13-py3-none-any.whl\r\n",
      "Collecting einops\r\n",
      "  Downloading einops-0.7.0-py3-none-any.whl (44 kB)\r\n",
      "\u001B[K     |████████████████████████████████| 44 kB 479 kB/s  eta 0:00:01\r\n",
      "\u001B[?25hRequirement already satisfied: typing-extensions in /home/evgeniy/.local/lib/python3.8/site-packages (from torch->labml-nn) (4.5.0)\r\n",
      "Requirement already satisfied: nvidia-cudnn-cu11==8.5.0.96; platform_system == \"Linux\" and platform_machine == \"x86_64\" in /home/evgeniy/.local/lib/python3.8/site-packages (from torch->labml-nn) (8.5.0.96)\r\n",
      "Requirement already satisfied: networkx in /home/evgeniy/.local/lib/python3.8/site-packages (from torch->labml-nn) (3.1)\r\n",
      "Requirement already satisfied: nvidia-cuda-runtime-cu11==11.7.99; platform_system == \"Linux\" and platform_machine == \"x86_64\" in /home/evgeniy/.local/lib/python3.8/site-packages (from torch->labml-nn) (11.7.99)\r\n",
      "Requirement already satisfied: jinja2 in /home/evgeniy/.local/lib/python3.8/site-packages (from torch->labml-nn) (3.1.2)\r\n",
      "Requirement already satisfied: nvidia-cusparse-cu11==11.7.4.91; platform_system == \"Linux\" and platform_machine == \"x86_64\" in /home/evgeniy/.local/lib/python3.8/site-packages (from torch->labml-nn) (11.7.4.91)\r\n",
      "Requirement already satisfied: nvidia-cufft-cu11==10.9.0.58; platform_system == \"Linux\" and platform_machine == \"x86_64\" in /home/evgeniy/.local/lib/python3.8/site-packages (from torch->labml-nn) (10.9.0.58)\r\n",
      "Requirement already satisfied: nvidia-nccl-cu11==2.14.3; platform_system == \"Linux\" and platform_machine == \"x86_64\" in /home/evgeniy/.local/lib/python3.8/site-packages (from torch->labml-nn) (2.14.3)\r\n",
      "Requirement already satisfied: nvidia-cusolver-cu11==11.4.0.1; platform_system == \"Linux\" and platform_machine == \"x86_64\" in /home/evgeniy/.local/lib/python3.8/site-packages (from torch->labml-nn) (11.4.0.1)\r\n",
      "Requirement already satisfied: nvidia-cuda-cupti-cu11==11.7.101; platform_system == \"Linux\" and platform_machine == \"x86_64\" in /home/evgeniy/.local/lib/python3.8/site-packages (from torch->labml-nn) (11.7.101)\r\n",
      "Requirement already satisfied: nvidia-cuda-nvrtc-cu11==11.7.99; platform_system == \"Linux\" and platform_machine == \"x86_64\" in /home/evgeniy/.local/lib/python3.8/site-packages (from torch->labml-nn) (11.7.99)\r\n",
      "Requirement already satisfied: nvidia-nvtx-cu11==11.7.91; platform_system == \"Linux\" and platform_machine == \"x86_64\" in /home/evgeniy/.local/lib/python3.8/site-packages (from torch->labml-nn) (11.7.91)\r\n",
      "Requirement already satisfied: triton==2.0.0; platform_system == \"Linux\" and platform_machine == \"x86_64\" in /home/evgeniy/.local/lib/python3.8/site-packages (from torch->labml-nn) (2.0.0)\r\n",
      "Requirement already satisfied: nvidia-cublas-cu11==11.10.3.66; platform_system == \"Linux\" and platform_machine == \"x86_64\" in /home/evgeniy/.local/lib/python3.8/site-packages (from torch->labml-nn) (11.10.3.66)\r\n",
      "Requirement already satisfied: sympy in /home/evgeniy/.local/lib/python3.8/site-packages (from torch->labml-nn) (1.11.1)\r\n",
      "Requirement already satisfied: nvidia-curand-cu11==10.2.10.91; platform_system == \"Linux\" and platform_machine == \"x86_64\" in /home/evgeniy/.local/lib/python3.8/site-packages (from torch->labml-nn) (10.2.10.91)\r\n",
      "Collecting filelock\r\n",
      "  Using cached filelock-3.13.1-py3-none-any.whl (11 kB)\r\n",
      "Requirement already satisfied: requests in /home/evgeniy/.local/lib/python3.8/site-packages (from torchvision->labml-nn) (2.28.2)\r\n",
      "Requirement already satisfied: pillow!=8.3.*,>=5.3.0 in /usr/lib/python3/dist-packages (from torchvision->labml-nn) (7.0.0)\r\n",
      "Collecting tqdm\r\n",
      "  Downloading tqdm-4.66.2-py3-none-any.whl (78 kB)\r\n",
      "\u001B[K     |████████████████████████████████| 78 kB 2.1 MB/s  eta 0:00:01\r\n",
      "\u001B[?25hCollecting torchdata==0.7.1\r\n",
      "  Downloading torchdata-0.7.1-cp38-cp38-manylinux_2_17_x86_64.manylinux2014_x86_64.whl (4.7 MB)\r\n",
      "\u001B[K     |████████████████████████████████| 4.7 MB 436 kB/s eta 0:00:011\r\n",
      "\u001B[?25hRequirement already satisfied: pyyaml in /usr/lib/python3/dist-packages (from labml==0.4.168->labml-nn) (5.3.1)\r\n",
      "Collecting gitpython\r\n",
      "  Downloading GitPython-3.1.42-py3-none-any.whl (195 kB)\r\n",
      "\u001B[K     |████████████████████████████████| 195 kB 39.7 MB/s eta 0:00:01\r\n",
      "\u001B[?25hRequirement already satisfied: setuptools in /usr/lib/python3/dist-packages (from nvidia-cuda-runtime-cu11==11.7.99; platform_system == \"Linux\" and platform_machine == \"x86_64\"->torch->labml-nn) (45.2.0)\r\n",
      "Requirement already satisfied: wheel in /usr/lib/python3/dist-packages (from nvidia-cuda-runtime-cu11==11.7.99; platform_system == \"Linux\" and platform_machine == \"x86_64\"->torch->labml-nn) (0.34.2)\r\n",
      "Requirement already satisfied: MarkupSafe>=2.0 in /home/evgeniy/.local/lib/python3.8/site-packages (from jinja2->torch->labml-nn) (2.1.2)\r\n",
      "Requirement already satisfied: cmake in /home/evgeniy/.local/lib/python3.8/site-packages (from triton==2.0.0; platform_system == \"Linux\" and platform_machine == \"x86_64\"->torch->labml-nn) (3.26.3)\r\n",
      "Requirement already satisfied: lit in /home/evgeniy/.local/lib/python3.8/site-packages (from triton==2.0.0; platform_system == \"Linux\" and platform_machine == \"x86_64\"->torch->labml-nn) (16.0.3)\r\n",
      "Requirement already satisfied: mpmath>=0.19 in /home/evgeniy/.local/lib/python3.8/site-packages (from sympy->torch->labml-nn) (1.3.0)\r\n",
      "Requirement already satisfied: certifi>=2017.4.17 in /usr/lib/python3/dist-packages (from requests->torchvision->labml-nn) (2019.11.28)\r\n",
      "Requirement already satisfied: urllib3<1.27,>=1.21.1 in /usr/lib/python3/dist-packages (from requests->torchvision->labml-nn) (1.25.8)\r\n",
      "Requirement already satisfied: idna<4,>=2.5 in /usr/lib/python3/dist-packages (from requests->torchvision->labml-nn) (2.8)\r\n",
      "Collecting charset-normalizer<4,>=2\r\n",
      "  Downloading charset_normalizer-3.3.2-cp38-cp38-manylinux_2_17_x86_64.manylinux2014_x86_64.whl (141 kB)\r\n",
      "\u001B[K     |████████████████████████████████| 141 kB 41.0 MB/s eta 0:00:01\r\n",
      "\u001B[?25hCollecting gitdb<5,>=4.0.1\r\n",
      "  Downloading gitdb-4.0.11-py3-none-any.whl (62 kB)\r\n",
      "\u001B[K     |████████████████████████████████| 62 kB 244 kB/s  eta 0:00:01\r\n",
      "\u001B[?25hCollecting smmap<6,>=3.0.1\r\n",
      "  Downloading smmap-5.0.1-py3-none-any.whl (24 kB)\r\n",
      "\u001B[31mERROR: xgboost 1.7.4 requires scipy, which is not installed.\u001B[0m\r\n",
      "\u001B[31mERROR: xarray 2023.1.0 requires pandas>=1.3, which is not installed.\u001B[0m\r\n",
      "\u001B[31mERROR: seaborn 0.12.2 requires matplotlib!=3.6.1,>=3.1, which is not installed.\u001B[0m\r\n",
      "\u001B[31mERROR: seaborn 0.12.2 requires pandas>=0.25, which is not installed.\u001B[0m\r\n",
      "\u001B[31mERROR: pyflagser 0.4.5 requires scipy>=0.17.0, which is not installed.\u001B[0m\r\n",
      "\u001B[31mERROR: neurokit2 0.2.3 requires matplotlib, which is not installed.\u001B[0m\r\n",
      "\u001B[31mERROR: neurokit2 0.2.3 requires pandas, which is not installed.\u001B[0m\r\n",
      "\u001B[31mERROR: neurokit2 0.2.3 requires scikit-learn>=1.0.0, which is not installed.\u001B[0m\r\n",
      "\u001B[31mERROR: neurokit2 0.2.3 requires scipy, which is not installed.\u001B[0m\r\n",
      "\u001B[31mERROR: mne-connectivity 0.5.0 requires mne, which is not installed.\u001B[0m\r\n",
      "\u001B[31mERROR: mne-connectivity 0.5.0 requires pandas, which is not installed.\u001B[0m\r\n",
      "\u001B[31mERROR: mne-connectivity 0.5.0 requires scipy, which is not installed.\u001B[0m\r\n",
      "\u001B[31mERROR: librosa 0.10.0.post2 requires numba>=0.51.0, which is not installed.\u001B[0m\r\n",
      "\u001B[31mERROR: librosa 0.10.0.post2 requires scikit-learn>=0.20.0, which is not installed.\u001B[0m\r\n",
      "\u001B[31mERROR: librosa 0.10.0.post2 requires scipy>=1.2.0, which is not installed.\u001B[0m\r\n",
      "\u001B[31mERROR: heartpy 1.2.7 requires matplotlib; python_version >= \"3.8\", which is not installed.\u001B[0m\r\n",
      "\u001B[31mERROR: heartpy 1.2.7 requires scipy; python_version >= \"3.7\", which is not installed.\u001B[0m\r\n",
      "\u001B[31mERROR: giotto-tda 0.6.0 requires plotly>=4.8.2, which is not installed.\u001B[0m\r\n",
      "\u001B[31mERROR: giotto-tda 0.6.0 requires scikit-learn>=0.23.1, which is not installed.\u001B[0m\r\n",
      "\u001B[31mERROR: giotto-tda 0.6.0 requires scipy>=1.5.0, which is not installed.\u001B[0m\r\n",
      "\u001B[31mERROR: giotto-ph 0.2.2 requires scikit-learn>=0.23.1, which is not installed.\u001B[0m\r\n",
      "\u001B[31mERROR: giotto-ph 0.2.2 requires scipy>=1.5.0, which is not installed.\u001B[0m\r\n",
      "\u001B[31mERROR: dataframe-image 0.1.5 requires aiohttp, which is not installed.\u001B[0m\r\n",
      "\u001B[31mERROR: dataframe-image 0.1.5 requires matplotlib>=3.1, which is not installed.\u001B[0m\r\n",
      "\u001B[31mERROR: dataframe-image 0.1.5 requires pandas>=0.24, which is not installed.\u001B[0m\r\n",
      "\u001B[31mERROR: torchtext 0.17.1 has requirement torch==2.2.1, but you'll have torch 2.0.1 which is incompatible.\u001B[0m\r\n",
      "Installing collected packages: smmap, gitdb, gitpython, numpy, labml, labml-helpers, tqdm, torchdata, torchtext, fairscale, einops, labml-nn, filelock, charset-normalizer\r\n",
      "\u001B[33m  WARNING: The scripts f2py, f2py3 and f2py3.8 are installed in '/home/evgeniy/.local/bin' which is not on PATH.\r\n",
      "  Consider adding this directory to PATH or, if you prefer to suppress this warning, use --no-warn-script-location.\u001B[0m\r\n",
      "\u001B[33m  WARNING: The script labml is installed in '/home/evgeniy/.local/bin' which is not on PATH.\r\n",
      "  Consider adding this directory to PATH or, if you prefer to suppress this warning, use --no-warn-script-location.\u001B[0m\r\n",
      "\u001B[33m  WARNING: The script tqdm is installed in '/home/evgeniy/.local/bin' which is not on PATH.\r\n",
      "  Consider adding this directory to PATH or, if you prefer to suppress this warning, use --no-warn-script-location.\u001B[0m\r\n",
      "\u001B[33m  WARNING: The script wgit is installed in '/home/evgeniy/.local/bin' which is not on PATH.\r\n",
      "  Consider adding this directory to PATH or, if you prefer to suppress this warning, use --no-warn-script-location.\u001B[0m\r\n",
      "\u001B[33m  WARNING: The script normalizer is installed in '/home/evgeniy/.local/bin' which is not on PATH.\r\n",
      "  Consider adding this directory to PATH or, if you prefer to suppress this warning, use --no-warn-script-location.\u001B[0m\r\n",
      "Successfully installed charset-normalizer-3.3.2 einops-0.7.0 fairscale-0.4.13 filelock-3.13.1 gitdb-4.0.11 gitpython-3.1.42 labml-0.4.168 labml-helpers-0.4.89 labml-nn-0.4.136 numpy-1.24.4 smmap-5.0.1 torchdata-0.7.1 torchtext-0.17.1 tqdm-4.66.2\r\n"
     ]
    }
   ],
   "source": [
    "!pip install labml-nn"
   ]
  },
  {
   "cell_type": "markdown",
   "metadata": {
    "id": "SE2VUQ6L5zxI"
   },
   "source": [
    "Imports"
   ]
  },
  {
   "cell_type": "code",
   "execution_count": 1,
   "metadata": {
    "id": "0hJXx_g0wS2C"
   },
   "outputs": [],
   "source": [
    "import torch\n",
    "\n",
    "from labml import experiment\n",
    "from labml_nn.capsule_networks.mnist import Configs"
   ]
  },
  {
   "cell_type": "markdown",
   "metadata": {
    "id": "Lpggo0wM6qb-"
   },
   "source": [
    "Create an experiment"
   ]
  },
  {
   "cell_type": "code",
   "execution_count": 2,
   "metadata": {
    "id": "bFcr9k-l4cAg"
   },
   "outputs": [],
   "source": [
    "experiment.create(name=\"capsule_networks\")"
   ]
  },
  {
   "cell_type": "markdown",
   "metadata": {
    "id": "-OnHLi626tJt"
   },
   "source": [
    "Initialize [Capsule Network configurations](https://nn.labml.ai/capsule_networks/mnist.html)"
   ]
  },
  {
   "cell_type": "code",
   "execution_count": 3,
   "metadata": {
    "id": "Piz0c5f44hRo"
   },
   "outputs": [],
   "source": [
    "conf = Configs()"
   ]
  },
  {
   "cell_type": "markdown",
   "metadata": {
    "id": "wwMzCqpD6vkL"
   },
   "source": [
    "Set experiment configurations and assign a configurations dictionary to override configurations"
   ]
  },
  {
   "cell_type": "code",
   "execution_count": 4,
   "metadata": {
    "colab": {
     "base_uri": "https://localhost:8080/",
     "height": 17
    },
    "id": "e6hmQhTw4nks",
    "outputId": "ebefa8fa-93d2-4131-db95-e27f15aa3aa0"
   },
   "outputs": [
    {
     "data": {
      "text/html": [
       "<pre style=\"overflow-x: scroll;\"></pre>"
      ],
      "text/plain": [
       "<IPython.core.display.HTML object>"
      ]
     },
     "metadata": {
      "tags": []
     },
     "output_type": "display_data"
    }
   ],
   "source": [
    "experiment.configs(conf, {'optimizer.optimizer': 'Adam',\n",
    "                         'optimizer.learning_rate': 1e-3,\n",
    "                         'inner_iterations': 5})"
   ]
  },
  {
   "cell_type": "markdown",
   "metadata": {
    "id": "EvI7MtgJ61w5"
   },
   "source": [
    "Set PyTorch models for loading and saving"
   ]
  },
  {
   "cell_type": "code",
   "execution_count": 5,
   "metadata": {
    "colab": {
     "base_uri": "https://localhost:8080/",
     "height": 102
    },
    "id": "GDlt7dp-5ALt",
    "outputId": "9701092b-c88a-4687-c90e-b193c369e59e"
   },
   "outputs": [
    {
     "data": {
      "text/html": [
       "<pre style=\"overflow-x: scroll;\">Prepare model...\n",
       "  Prepare device...\n",
       "    Prepare device_info<span style=\"color: #00A250\">...[DONE]</span><span style=\"color: #208FFB\">\t47.85ms</span>\n",
       "  Prepare device<span style=\"color: #00A250\">...[DONE]</span><span style=\"color: #208FFB\">\t52.83ms</span>\n",
       "Prepare model<span style=\"color: #00A250\">...[DONE]</span><span style=\"color: #208FFB\">\t4,606.99ms</span>\n",
       "</pre>"
      ],
      "text/plain": [
       "<IPython.core.display.HTML object>"
      ]
     },
     "metadata": {
      "tags": []
     },
     "output_type": "display_data"
    }
   ],
   "source": [
    "experiment.add_pytorch_models({'model': conf.model})"
   ]
  },
  {
   "cell_type": "markdown",
   "metadata": {
    "id": "KJZRf8527GxL"
   },
   "source": [
    "Start the experiment and run the training loop."
   ]
  },
  {
   "cell_type": "code",
   "execution_count": 6,
   "metadata": {
    "colab": {
     "base_uri": "https://localhost:8080/",
     "height": 646
    },
    "id": "aIAWo7Fw5DR8",
    "outputId": "5ddbfce3-91f8-4506-e483-1640cb5a14b3"
   },
   "outputs": [
    {
     "data": {
      "text/html": [
       "<pre style=\"overflow-x: scroll;\">\n",
       "<strong><span style=\"text-decoration: underline\">capsule_networks</span></strong>: <span style=\"color: #208FFB\">e7c08e08586711ebb3e30242ac1c0002</span>\n",
       "\t[dirty]: <strong><span style=\"color: #DDB62B\">\"\"</span></strong>\n",
       "Initialize<span style=\"color: #00A250\">...[DONE]</span><span style=\"color: #208FFB\">\t27.73ms</span>\n",
       "Prepare validator...\n",
       "  Prepare mode<span style=\"color: #00A250\">...[DONE]</span><span style=\"color: #208FFB\">\t6.00ms</span>\n",
       "  Prepare valid_loader...\n",
       "    Prepare valid_dataset...\n",
       "      Prepare dataset_transforms<span style=\"color: #00A250\">...[DONE]</span><span style=\"color: #208FFB\">\t4.04ms</span>\n",
       "    Prepare valid_dataset<span style=\"color: #00A250\">...[DONE]</span><span style=\"color: #208FFB\">\t42.26ms</span>\n",
       "<span style=\"color: #C5C1B4\"></span>\n",
       "<span style=\"color: #C5C1B4\">--------------------------------------------------</span><span style=\"color: #DDB62B\"><strong><span style=\"text-decoration: underline\"></span></strong></span>\n",
       "<span style=\"color: #DDB62B\"><strong><span style=\"text-decoration: underline\">LABML WARNING</span></strong></span>\n",
       "<span style=\"color: #DDB62B\"><strong><span style=\"text-decoration: underline\"></span></strong></span>LabML App Warning: <span style=\"color: #60C6C8\">empty_token: </span><strong>Please create a valid token at https://app.labml.ai.</strong>\n",
       "<strong>Click on the experiment link to monitor the experiment and add it to your experiments list.</strong><span style=\"color: #C5C1B4\"></span>\n",
       "<span style=\"color: #C5C1B4\">--------------------------------------------------</span>\n",
       "<span style=\"color: #208FFB\">Monitor experiment at </span><a href='https://app.labml.ai/run?uuid=e7c08e08586711ebb3e30242ac1c0002' target='blank'>https://app.labml.ai/run?uuid=e7c08e08586711ebb3e30242ac1c0002</a>\n",
       "  Prepare valid_loader<span style=\"color: #00A250\">...[DONE]</span><span style=\"color: #208FFB\">\t127.68ms</span>\n",
       "Prepare validator<span style=\"color: #00A250\">...[DONE]</span><span style=\"color: #208FFB\">\t295.57ms</span>\n",
       "Prepare trainer...\n",
       "  Prepare train_loader...\n",
       "    Prepare train_dataset<span style=\"color: #00A250\">...[DONE]</span><span style=\"color: #208FFB\">\t36.64ms</span>\n",
       "  Prepare train_loader<span style=\"color: #00A250\">...[DONE]</span><span style=\"color: #208FFB\">\t126.53ms</span>\n",
       "Prepare trainer<span style=\"color: #00A250\">...[DONE]</span><span style=\"color: #208FFB\">\t159.96ms</span>\n",
       "Prepare training_loop...\n",
       "  Prepare loop_count<span style=\"color: #00A250\">...[DONE]</span><span style=\"color: #208FFB\">\t34.24ms</span>\n",
       "Prepare training_loop<span style=\"color: #00A250\">...[DONE]</span><span style=\"color: #208FFB\">\t214.47ms</span>\n",
       "<strong><span style=\"color: #DDB62B\">  60,000:  </span></strong>Train:<span style=\"color: #C5C1B4\"> 100%</span><span style=\"color: #208FFB\">    67,954ms  </span>Valid:<span style=\"color: #C5C1B4\"> 100%</span><span style=\"color: #208FFB\"> 7,768ms  </span> loss.train: <span style=\"color: #C5C1B4\">0.036759</span> loss.valid: <span style=\"color: #C5C1B4\">0.018877</span> accuracy.train: <span style=\"color: #C5C1B4\">0.962317</span> accuracy.valid: <span style=\"color: #C5C1B4\">0.979800</span>  <span style=\"color: #208FFB\">78,355ms</span><span style=\"color: #D160C4\">  0:01m/  0:11m  </span>\n",
       "<strong><span style=\"color: #DDB62B\"> 120,000:  </span></strong>Train:<span style=\"color: #C5C1B4\"> 100%</span><span style=\"color: #208FFB\">    67,571ms  </span>Valid:<span style=\"color: #C5C1B4\"> 100%</span><span style=\"color: #208FFB\"> 8,267ms  </span> loss.train: <span style=\"color: #C5C1B4\">0.016659</span> loss.valid: <span style=\"color: #C5C1B4\">0.017786</span> accuracy.train: <span style=\"color: #C5C1B4\">0.989217</span> accuracy.valid: <span style=\"color: #C5C1B4\">0.987000</span>  <span style=\"color: #208FFB\">77,000ms</span><span style=\"color: #D160C4\">  0:02m/  0:10m  </span>\n",
       "<strong><span style=\"color: #DDB62B\"> 180,000:  </span></strong>Train:<span style=\"color: #C5C1B4\"> 100%</span><span style=\"color: #208FFB\">    67,421ms  </span>Valid:<span style=\"color: #C5C1B4\"> 100%</span><span style=\"color: #208FFB\"> 8,458ms  </span> loss.train: <span style=\"color: #C5C1B4\">0.010699</span> loss.valid: <span style=\"color: #C5C1B4\">0.011324</span> accuracy.train: <span style=\"color: #C5C1B4\">0.993017</span> accuracy.valid: <span style=\"color: #C5C1B4\">0.990400</span>  <span style=\"color: #208FFB\">76,496ms</span><span style=\"color: #D160C4\">  0:03m/  0:08m  </span>\n",
       "<strong><span style=\"color: #DDB62B\"> 240,000:  </span></strong>Train:<span style=\"color: #C5C1B4\"> 100%</span><span style=\"color: #208FFB\">    67,333ms  </span>Valid:<span style=\"color: #C5C1B4\"> 100%</span><span style=\"color: #208FFB\"> 8,544ms  </span> loss.train: <span style=\"color: #C5C1B4\">0.001724</span> loss.valid: <span style=\"color: #C5C1B4\">0.010312</span> accuracy.train: <span style=\"color: #C5C1B4\">0.995183</span> accuracy.valid: <span style=\"color: #C5C1B4\">0.992500</span>  <span style=\"color: #208FFB\">76,241ms</span><span style=\"color: #D160C4\">  0:05m/  0:07m  </span>\n",
       "<strong><span style=\"color: #DDB62B\"> 300,000:  </span></strong>Train:<span style=\"color: #C5C1B4\"> 100%</span><span style=\"color: #208FFB\">    67,393ms  </span>Valid:<span style=\"color: #C5C1B4\"> 100%</span><span style=\"color: #208FFB\"> 8,584ms  </span> loss.train: <span style=\"color: #C5C1B4\">0.025503</span> loss.valid: <span style=\"color: #C5C1B4\">0.009328</span> accuracy.train: <span style=\"color: #C5C1B4\">0.996467</span> accuracy.valid: <span style=\"color: #C5C1B4\">0.992300</span>  <span style=\"color: #208FFB\">76,131ms</span><span style=\"color: #D160C4\">  0:06m/  0:06m  </span>\n",
       "<strong><span style=\"color: #DDB62B\"> 360,000:  </span></strong>Train:<span style=\"color: #C5C1B4\"> 100%</span><span style=\"color: #208FFB\">    67,243ms  </span>Valid:<span style=\"color: #C5C1B4\"> 100%</span><span style=\"color: #208FFB\"> 8,614ms  </span> loss.train: <span style=\"color: #C5C1B4\">0.002150</span> loss.valid: <span style=\"color: #C5C1B4\">0.009803</span> accuracy.train: <span style=\"color: #C5C1B4\">0.997183</span> accuracy.valid: <span style=\"color: #C5C1B4\">0.992100</span>  <span style=\"color: #208FFB\">76,030ms</span><span style=\"color: #D160C4\">  0:07m/  0:05m  </span>\n",
       "<strong><span style=\"color: #DDB62B\"> 420,000:  </span></strong>Train:<span style=\"color: #C5C1B4\"> 100%</span><span style=\"color: #208FFB\">    67,368ms  </span>Valid:<span style=\"color: #C5C1B4\"> 100%</span><span style=\"color: #208FFB\"> 8,655ms  </span> loss.train: <span style=\"color: #C5C1B4\">0.000345</span> loss.valid: <span style=\"color: #C5C1B4\">0.011668</span> accuracy.train: <span style=\"color: #C5C1B4\">0.997750</span> accuracy.valid: <span style=\"color: #C5C1B4\">0.992400</span>  <span style=\"color: #208FFB\">75,969ms</span><span style=\"color: #D160C4\">  0:08m/  0:03m  </span>\n",
       "<strong><span style=\"color: #DDB62B\"> 480,000:  </span></strong>Train:<span style=\"color: #C5C1B4\"> 100%</span><span style=\"color: #208FFB\">    67,265ms  </span>Valid:<span style=\"color: #C5C1B4\"> 100%</span><span style=\"color: #208FFB\"> 8,646ms  </span> loss.train: <span style=\"color: #C5C1B4\">0.008524</span> loss.valid: <span style=\"color: #C5C1B4\">0.009893</span> accuracy.train: <span style=\"color: #C5C1B4\">0.998200</span> accuracy.valid: <span style=\"color: #C5C1B4\">0.992000</span>  <span style=\"color: #208FFB\">75,889ms</span><span style=\"color: #D160C4\">  0:10m/  0:02m  </span>\n",
       "<strong><span style=\"color: #DDB62B\"> 540,000:  </span></strong>Train:<span style=\"color: #C5C1B4\"> 100%</span><span style=\"color: #208FFB\">    67,440ms  </span>Valid:<span style=\"color: #C5C1B4\"> 100%</span><span style=\"color: #208FFB\"> 8,660ms  </span> loss.train: <span style=\"color: #C5C1B4\">0.000430</span> loss.valid: <span style=\"color: #C5C1B4\">0.010111</span> accuracy.train: <span style=\"color: #C5C1B4\">0.998383</span> accuracy.valid: <span style=\"color: #C5C1B4\">0.991400</span>  <span style=\"color: #208FFB\">75,870ms</span><span style=\"color: #D160C4\">  0:11m/  0:01m  </span>\n",
       "<strong><span style=\"color: #DDB62B\"> 600,000:  </span></strong> loss.train: <span style=\"color: #C5C1B4\">0.000784</span> loss.valid: <span style=\"color: #C5C1B4\">0.009602</span> accuracy.train: <span style=\"color: #C5C1B4\">0.998817</span> accuracy.valid: <span style=\"color: #C5C1B4\">0.992500</span>\n",
       "<strong><span style=\"color: #DDB62B\">Still updating LabML App, please wait for it to complete...</span></strong></pre>"
      ],
      "text/plain": [
       "<IPython.core.display.HTML object>"
      ]
     },
     "metadata": {
      "tags": []
     },
     "output_type": "display_data"
    }
   ],
   "source": [
    "with experiment.start():\n",
    "    conf.run()"
   ]
  },
  {
   "cell_type": "code",
   "execution_count": null,
   "metadata": {
    "id": "oBXXlP2b7XZO"
   },
   "outputs": [],
   "source": []
  }
 ],
 "metadata": {
  "accelerator": "GPU",
  "colab": {
   "collapsed_sections": [],
   "name": "Capsule Networks",
   "provenance": []
  },
  "kernelspec": {
   "display_name": "Python 3 (ipykernel)",
   "language": "python",
   "name": "python3"
  }
 },
 "nbformat": 4,
 "nbformat_minor": 0
}
